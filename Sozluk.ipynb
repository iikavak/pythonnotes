{
 "cells": [
  {
   "cell_type": "markdown",
   "id": "29791170",
   "metadata": {},
   "source": [
    "koleksiyon birden fazla veri tipini içinde barındırmak, \n",
    "list ve sozluklar birer koleksiyon"
   ]
  },
  {
   "cell_type": "markdown",
   "id": "feb40dd2",
   "metadata": {},
   "source": [
    "# key- value pairing(anahtar kelime - deger eslesmesi)"
   ]
  },
  {
   "cell_type": "markdown",
   "id": "4f1c7f11",
   "metadata": {},
   "source": [
    "dictionary"
   ]
  },
  {
   "cell_type": "code",
   "execution_count": 1,
   "id": "cdc929ca",
   "metadata": {},
   "outputs": [],
   "source": [
    "benimSozluk={\"anahatarkelima\":\"deger\"}"
   ]
  },
  {
   "cell_type": "code",
   "execution_count": 2,
   "id": "30e69a6c",
   "metadata": {},
   "outputs": [
    {
     "data": {
      "text/plain": [
       "{'anahatarkelima': 'deger'}"
      ]
     },
     "execution_count": 2,
     "metadata": {},
     "output_type": "execute_result"
    }
   ],
   "source": [
    "benimSozluk"
   ]
  },
  {
   "cell_type": "code",
   "execution_count": 3,
   "id": "e8a0827d",
   "metadata": {},
   "outputs": [
    {
     "data": {
      "text/plain": [
       "dict"
      ]
     },
     "execution_count": 3,
     "metadata": {},
     "output_type": "execute_result"
    }
   ],
   "source": [
    "type(benimSozluk)"
   ]
  },
  {
   "cell_type": "code",
   "execution_count": 4,
   "id": "55e81d20",
   "metadata": {},
   "outputs": [
    {
     "data": {
      "text/plain": [
       "'deger'"
      ]
     },
     "execution_count": 4,
     "metadata": {},
     "output_type": "execute_result"
    }
   ],
   "source": [
    "benimSozluk[\"anahatarkelima\"]"
   ]
  },
  {
   "cell_type": "code",
   "execution_count": 8,
   "id": "086d1db3",
   "metadata": {},
   "outputs": [],
   "source": [
    "benimYemekKaloriSozlugum = {\"elam\" : 100, \"muz\" : 200, \"karpuz\" : 300}"
   ]
  },
  {
   "cell_type": "code",
   "execution_count": 10,
   "id": "c919573e",
   "metadata": {},
   "outputs": [
    {
     "data": {
      "text/plain": [
       "100"
      ]
     },
     "execution_count": 10,
     "metadata": {},
     "output_type": "execute_result"
    }
   ],
   "source": [
    "benimYemekKaloriSozlugum[\"elam\"]"
   ]
  },
  {
   "cell_type": "code",
   "execution_count": 11,
   "id": "5c5b1a46",
   "metadata": {},
   "outputs": [],
   "source": [
    "benimYemekKaloriSozlugum[\"elam\"]=200"
   ]
  },
  {
   "cell_type": "code",
   "execution_count": 12,
   "id": "26f48ebe",
   "metadata": {},
   "outputs": [
    {
     "data": {
      "text/plain": [
       "{'elam': 200, 'muz': 200, 'karpuz': 300}"
      ]
     },
     "execution_count": 12,
     "metadata": {},
     "output_type": "execute_result"
    }
   ],
   "source": [
    "benimYemekKaloriSozlugum"
   ]
  },
  {
   "cell_type": "code",
   "execution_count": 13,
   "id": "ae5e15de",
   "metadata": {},
   "outputs": [],
   "source": [
    "yeniDictionary={\"anahtar1\":100, \"anahtar2\":[10,20,3,3.5,\"ikbal\"],\"anahtar\":{\"anahtar9\":4}}"
   ]
  },
  {
   "cell_type": "code",
   "execution_count": 14,
   "id": "f18cef2a",
   "metadata": {},
   "outputs": [
    {
     "data": {
      "text/plain": [
       "dict"
      ]
     },
     "execution_count": 14,
     "metadata": {},
     "output_type": "execute_result"
    }
   ],
   "source": [
    "type(yeniDictionary[\"anahtar\"])"
   ]
  },
  {
   "cell_type": "code",
   "execution_count": 16,
   "id": "8a8ecd50",
   "metadata": {},
   "outputs": [
    {
     "data": {
      "text/plain": [
       "dict_keys(['anahtar1', 'anahtar2', 'anahtar'])"
      ]
     },
     "execution_count": 16,
     "metadata": {},
     "output_type": "execute_result"
    }
   ],
   "source": [
    "yeniDictionary.keys()"
   ]
  },
  {
   "cell_type": "code",
   "execution_count": 17,
   "id": "38e57e1f",
   "metadata": {},
   "outputs": [
    {
     "data": {
      "text/plain": [
       "dict_values([100, [10, 20, 3, 3.5, 'ikbal'], {'anahtar9': 4}])"
      ]
     },
     "execution_count": 17,
     "metadata": {},
     "output_type": "execute_result"
    }
   ],
   "source": [
    "yeniDictionary.values()"
   ]
  },
  {
   "cell_type": "code",
   "execution_count": 19,
   "id": "7831f014",
   "metadata": {},
   "outputs": [
    {
     "data": {
      "text/plain": [
       "'ikbal'"
      ]
     },
     "execution_count": 19,
     "metadata": {},
     "output_type": "execute_result"
    }
   ],
   "source": [
    "yeniDictionary[\"anahtar2\"][4]"
   ]
  },
  {
   "cell_type": "code",
   "execution_count": 20,
   "id": "e904a7db",
   "metadata": {},
   "outputs": [
    {
     "data": {
      "text/plain": [
       "'ikbal'"
      ]
     },
     "execution_count": 20,
     "metadata": {},
     "output_type": "execute_result"
    }
   ],
   "source": [
    "yeniDictionary[\"anahtar2\"][-1]"
   ]
  },
  {
   "cell_type": "code",
   "execution_count": 21,
   "id": "9222154e",
   "metadata": {},
   "outputs": [
    {
     "data": {
      "text/plain": [
       "4"
      ]
     },
     "execution_count": 21,
     "metadata": {},
     "output_type": "execute_result"
    }
   ],
   "source": [
    "yeniDictionary[\"anahtar\"][\"anahtar9\"]"
   ]
  },
  {
   "cell_type": "code",
   "execution_count": null,
   "id": "550dafaf",
   "metadata": {},
   "outputs": [],
   "source": []
  }
 ],
 "metadata": {
  "kernelspec": {
   "display_name": "Python 3 (ipykernel)",
   "language": "python",
   "name": "python3"
  },
  "language_info": {
   "codemirror_mode": {
    "name": "ipython",
    "version": 3
   },
   "file_extension": ".py",
   "mimetype": "text/x-python",
   "name": "python",
   "nbconvert_exporter": "python",
   "pygments_lexer": "ipython3",
   "version": "3.9.13"
  }
 },
 "nbformat": 4,
 "nbformat_minor": 5
}
