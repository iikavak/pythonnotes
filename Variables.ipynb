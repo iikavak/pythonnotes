{
 "cells": [
  {
   "cell_type": "markdown",
   "id": "5c44594b",
   "metadata": {},
   "source": [
    "# Integer\n",
    "\n"
   ]
  },
  {
   "cell_type": "code",
   "execution_count": 2,
   "id": "0ffb3719",
   "metadata": {},
   "outputs": [],
   "source": [
    "degisken=10\n",
    "degisken2=30"
   ]
  },
  {
   "cell_type": "code",
   "execution_count": 7,
   "id": "c427c92b",
   "metadata": {},
   "outputs": [
    {
     "data": {
      "text/plain": [
       "int"
      ]
     },
     "execution_count": 7,
     "metadata": {},
     "output_type": "execute_result"
    }
   ],
   "source": [
    "type(degisken2)"
   ]
  },
  {
   "cell_type": "markdown",
   "id": "ee4477be",
   "metadata": {},
   "source": [
    "üst alma"
   ]
  },
  {
   "cell_type": "code",
   "execution_count": 4,
   "id": "d15cbf01",
   "metadata": {},
   "outputs": [],
   "source": [
    "x=4"
   ]
  },
  {
   "cell_type": "code",
   "execution_count": 6,
   "id": "66c431b3",
   "metadata": {},
   "outputs": [
    {
     "data": {
      "text/plain": [
       "256"
      ]
     },
     "execution_count": 6,
     "metadata": {},
     "output_type": "execute_result"
    }
   ],
   "source": [
    "x**4"
   ]
  },
  {
   "cell_type": "markdown",
   "id": "f215d941",
   "metadata": {},
   "source": [
    "remainder- kalanını bulma"
   ]
  },
  {
   "cell_type": "code",
   "execution_count": 8,
   "id": "a90229c8",
   "metadata": {},
   "outputs": [
    {
     "data": {
      "text/plain": [
       "1"
      ]
     },
     "execution_count": 8,
     "metadata": {},
     "output_type": "execute_result"
    }
   ],
   "source": [
    "10%3"
   ]
  },
  {
   "cell_type": "markdown",
   "id": "9ba2aa45",
   "metadata": {},
   "source": [
    "kullanıcıdan veri alma"
   ]
  },
  {
   "cell_type": "code",
   "execution_count": 9,
   "id": "8f06d66b",
   "metadata": {},
   "outputs": [
    {
     "name": "stdout",
     "output_type": "stream",
     "text": [
      "yaşınızı girniz21\n"
     ]
    }
   ],
   "source": [
    "kullaniciYasi= input(\"yaşınızı girniz\")"
   ]
  },
  {
   "cell_type": "code",
   "execution_count": 10,
   "id": "34ae3b6e",
   "metadata": {},
   "outputs": [
    {
     "data": {
      "text/plain": [
       "'21212121212121212121'"
      ]
     },
     "execution_count": 10,
     "metadata": {},
     "output_type": "execute_result"
    }
   ],
   "source": [
    "kullaniciYasi*10"
   ]
  },
  {
   "cell_type": "code",
   "execution_count": 11,
   "id": "1f6390a9",
   "metadata": {},
   "outputs": [
    {
     "name": "stdout",
     "output_type": "stream",
     "text": [
      "yaşınızı girniz21\n"
     ]
    }
   ],
   "source": [
    "kullaniciYasi= input(\"yaşınızı girniz\")"
   ]
  },
  {
   "cell_type": "code",
   "execution_count": 12,
   "id": "caf619e2",
   "metadata": {},
   "outputs": [
    {
     "data": {
      "text/plain": [
       "str"
      ]
     },
     "execution_count": 12,
     "metadata": {},
     "output_type": "execute_result"
    }
   ],
   "source": [
    "type(kullaniciYasi)"
   ]
  },
  {
   "cell_type": "code",
   "execution_count": 16,
   "id": "332201a4",
   "metadata": {},
   "outputs": [
    {
     "name": "stdout",
     "output_type": "stream",
     "text": [
      "yaşınızı girniz21\n"
     ]
    }
   ],
   "source": [
    "kullaniciYasi = input(\"yaşınızı girniz\")\n"
   ]
  },
  {
   "cell_type": "code",
   "execution_count": 17,
   "id": "715c0c58",
   "metadata": {},
   "outputs": [],
   "source": [
    "kullaniciYasi=10"
   ]
  },
  {
   "cell_type": "code",
   "execution_count": 18,
   "id": "06e911ab",
   "metadata": {},
   "outputs": [
    {
     "name": "stdout",
     "output_type": "stream",
     "text": [
      "yaşınızı giriniz21\n"
     ]
    }
   ],
   "source": [
    "kullaniciYasi = input(\"yaşınızı giriniz\")"
   ]
  },
  {
   "cell_type": "code",
   "execution_count": 19,
   "id": "4caf791e",
   "metadata": {},
   "outputs": [
    {
     "ename": "NameError",
     "evalue": "name 'tpye' is not defined",
     "output_type": "error",
     "traceback": [
      "\u001b[0;31m---------------------------------------------------------------------------\u001b[0m",
      "\u001b[0;31mNameError\u001b[0m                                 Traceback (most recent call last)",
      "\u001b[0;32m/var/folders/3s/jkkyt3g16dn5l89ghf5__hlr0000gn/T/ipykernel_4336/2017060928.py\u001b[0m in \u001b[0;36m<module>\u001b[0;34m\u001b[0m\n\u001b[0;32m----> 1\u001b[0;31m \u001b[0mtpye\u001b[0m\u001b[0;34m(\u001b[0m\u001b[0mkullaniciYasi\u001b[0m\u001b[0;34m)\u001b[0m\u001b[0;34m\u001b[0m\u001b[0;34m\u001b[0m\u001b[0m\n\u001b[0m",
      "\u001b[0;31mNameError\u001b[0m: name 'tpye' is not defined"
     ]
    }
   ],
   "source": [
    "tpye(kullaniciYasi)"
   ]
  },
  {
   "cell_type": "code",
   "execution_count": 20,
   "id": "d44348ca",
   "metadata": {},
   "outputs": [
    {
     "data": {
      "text/plain": [
       "str"
      ]
     },
     "execution_count": 20,
     "metadata": {},
     "output_type": "execute_result"
    }
   ],
   "source": [
    "type (kullaniciYasi)"
   ]
  },
  {
   "cell_type": "markdown",
   "id": "073e12af",
   "metadata": {},
   "source": [
    "\n"
   ]
  },
  {
   "cell_type": "code",
   "execution_count": 1,
   "id": "e528d9b4",
   "metadata": {},
   "outputs": [
    {
     "ename": "NameError",
     "evalue": "name 'kullaniciYasi' is not defined",
     "output_type": "error",
     "traceback": [
      "\u001b[0;31m---------------------------------------------------------------------------\u001b[0m",
      "\u001b[0;31mNameError\u001b[0m                                 Traceback (most recent call last)",
      "\u001b[0;32m/var/folders/3s/jkkyt3g16dn5l89ghf5__hlr0000gn/T/ipykernel_20013/346378604.py\u001b[0m in \u001b[0;36m<module>\u001b[0;34m\u001b[0m\n\u001b[0;32m----> 1\u001b[0;31m \u001b[0mkullaniciYasi\u001b[0m\u001b[0;34m=\u001b[0m\u001b[0mint\u001b[0m\u001b[0;34m(\u001b[0m\u001b[0mkullaniciYasi\u001b[0m\u001b[0;34m)\u001b[0m\u001b[0;34m\u001b[0m\u001b[0;34m\u001b[0m\u001b[0m\n\u001b[0m",
      "\u001b[0;31mNameError\u001b[0m: name 'kullaniciYasi' is not defined"
     ]
    }
   ],
   "source": [
    "kullaniciYasi=int(kullaniciYasi)"
   ]
  },
  {
   "cell_type": "code",
   "execution_count": 2,
   "id": "ed272cf8",
   "metadata": {},
   "outputs": [
    {
     "ename": "NameError",
     "evalue": "name 'kullaniciYasi' is not defined",
     "output_type": "error",
     "traceback": [
      "\u001b[0;31m---------------------------------------------------------------------------\u001b[0m",
      "\u001b[0;31mNameError\u001b[0m                                 Traceback (most recent call last)",
      "\u001b[0;32m/var/folders/3s/jkkyt3g16dn5l89ghf5__hlr0000gn/T/ipykernel_20013/2831464413.py\u001b[0m in \u001b[0;36m<module>\u001b[0;34m\u001b[0m\n\u001b[0;32m----> 1\u001b[0;31m \u001b[0mkulYasi\u001b[0m\u001b[0;34m=\u001b[0m\u001b[0mint\u001b[0m\u001b[0;34m(\u001b[0m\u001b[0mkullaniciYasi\u001b[0m\u001b[0;34m)\u001b[0m\u001b[0;34m\u001b[0m\u001b[0;34m\u001b[0m\u001b[0m\n\u001b[0m",
      "\u001b[0;31mNameError\u001b[0m: name 'kullaniciYasi' is not defined"
     ]
    }
   ],
   "source": [
    "kulYasi=int(kullaniciYasi)"
   ]
  },
  {
   "cell_type": "markdown",
   "id": "b826a8dc",
   "metadata": {},
   "source": [
    "Slicing"
   ]
  },
  {
   "cell_type": "code",
   "execution_count": 3,
   "id": "2b8edbfe",
   "metadata": {},
   "outputs": [],
   "source": [
    "yeniString=\"01234567\""
   ]
  },
  {
   "cell_type": "code",
   "execution_count": 4,
   "id": "7653f7af",
   "metadata": {},
   "outputs": [
    {
     "data": {
      "text/plain": [
       "'0'"
      ]
     },
     "execution_count": 4,
     "metadata": {},
     "output_type": "execute_result"
    }
   ],
   "source": [
    "yeniString[0]"
   ]
  },
  {
   "cell_type": "code",
   "execution_count": 5,
   "id": "1ce4c38c",
   "metadata": {},
   "outputs": [
    {
     "data": {
      "text/plain": [
       "'7'"
      ]
     },
     "execution_count": 5,
     "metadata": {},
     "output_type": "execute_result"
    }
   ],
   "source": [
    "yeniString[-1]"
   ]
  },
  {
   "cell_type": "code",
   "execution_count": 6,
   "id": "12f42a45",
   "metadata": {},
   "outputs": [
    {
     "data": {
      "text/plain": [
       "'3'"
      ]
     },
     "execution_count": 6,
     "metadata": {},
     "output_type": "execute_result"
    }
   ],
   "source": [
    "yeniString[3]"
   ]
  },
  {
   "cell_type": "code",
   "execution_count": 7,
   "id": "907006ae",
   "metadata": {},
   "outputs": [
    {
     "data": {
      "text/plain": [
       "'34567'"
      ]
     },
     "execution_count": 7,
     "metadata": {},
     "output_type": "execute_result"
    }
   ],
   "source": [
    "yeniString[3:]"
   ]
  },
  {
   "cell_type": "code",
   "execution_count": 8,
   "id": "45cb1814",
   "metadata": {},
   "outputs": [
    {
     "data": {
      "text/plain": [
       "'012'"
      ]
     },
     "execution_count": 8,
     "metadata": {},
     "output_type": "execute_result"
    }
   ],
   "source": [
    "yeniString[:3]"
   ]
  },
  {
   "cell_type": "code",
   "execution_count": 9,
   "id": "7e6f08d0",
   "metadata": {},
   "outputs": [],
   "source": [
    "gelenVeri=\"ahmetinyaşı17\""
   ]
  },
  {
   "cell_type": "code",
   "execution_count": 10,
   "id": "9983ca4a",
   "metadata": {},
   "outputs": [
    {
     "data": {
      "text/plain": [
       "'ahmetinyaşı'"
      ]
     },
     "execution_count": 10,
     "metadata": {},
     "output_type": "execute_result"
    }
   ],
   "source": [
    "gelenVeri[:-2]"
   ]
  },
  {
   "cell_type": "code",
   "execution_count": 11,
   "id": "d81311f5",
   "metadata": {},
   "outputs": [
    {
     "data": {
      "text/plain": [
       "'17'"
      ]
     },
     "execution_count": 11,
     "metadata": {},
     "output_type": "execute_result"
    }
   ],
   "source": [
    "gelenVeri[-2:]"
   ]
  },
  {
   "cell_type": "code",
   "execution_count": 12,
   "id": "5ca8b22d",
   "metadata": {},
   "outputs": [
    {
     "data": {
      "text/plain": [
       "'me'"
      ]
     },
     "execution_count": 12,
     "metadata": {},
     "output_type": "execute_result"
    }
   ],
   "source": [
    "gelenVeri[2:4]"
   ]
  },
  {
   "cell_type": "markdown",
   "id": "fe573e8c",
   "metadata": {},
   "source": [
    "Step Size"
   ]
  },
  {
   "cell_type": "code",
   "execution_count": 13,
   "id": "ecc08095",
   "metadata": {},
   "outputs": [
    {
     "data": {
      "text/plain": [
       "'hty'"
      ]
     },
     "execution_count": 13,
     "metadata": {},
     "output_type": "execute_result"
    }
   ],
   "source": [
    "gelenVeri[1:10:3]"
   ]
  },
  {
   "cell_type": "code",
   "execution_count": 14,
   "id": "887de84b",
   "metadata": {},
   "outputs": [
    {
     "data": {
      "text/plain": [
       "'71ışaynitemha'"
      ]
     },
     "execution_count": 14,
     "metadata": {},
     "output_type": "execute_result"
    }
   ],
   "source": [
    "gelenVeri[::-1]"
   ]
  },
  {
   "cell_type": "markdown",
   "id": "80ab260c",
   "metadata": {},
   "source": [
    "# list\n"
   ]
  },
  {
   "cell_type": "code",
   "execution_count": null,
   "id": "1d41c7e8",
   "metadata": {},
   "outputs": [],
   "source": []
  }
 ],
 "metadata": {
  "kernelspec": {
   "display_name": "Python 3 (ipykernel)",
   "language": "python",
   "name": "python3"
  },
  "language_info": {
   "codemirror_mode": {
    "name": "ipython",
    "version": 3
   },
   "file_extension": ".py",
   "mimetype": "text/x-python",
   "name": "python",
   "nbconvert_exporter": "python",
   "pygments_lexer": "ipython3",
   "version": "3.9.13"
  }
 },
 "nbformat": 4,
 "nbformat_minor": 5
}
