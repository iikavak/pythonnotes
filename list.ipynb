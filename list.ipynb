{
 "cells": [
  {
   "cell_type": "markdown",
   "id": "1de81dfc",
   "metadata": {},
   "source": [
    "# list\n"
   ]
  },
  {
   "cell_type": "code",
   "execution_count": 2,
   "id": "11faf8b8",
   "metadata": {},
   "outputs": [],
   "source": [
    "karisikliste=[1,2,3.5,\"ikbal\"]"
   ]
  },
  {
   "cell_type": "code",
   "execution_count": 3,
   "id": "c85a95fe",
   "metadata": {},
   "outputs": [
    {
     "data": {
      "text/plain": [
       "list"
      ]
     },
     "execution_count": 3,
     "metadata": {},
     "output_type": "execute_result"
    }
   ],
   "source": [
    "type(karisikliste)"
   ]
  },
  {
   "cell_type": "code",
   "execution_count": 4,
   "id": "4d1af070",
   "metadata": {},
   "outputs": [
    {
     "data": {
      "text/plain": [
       "1"
      ]
     },
     "execution_count": 4,
     "metadata": {},
     "output_type": "execute_result"
    }
   ],
   "source": [
    "karisikliste[0]"
   ]
  },
  {
   "cell_type": "code",
   "execution_count": 5,
   "id": "a6bbe587",
   "metadata": {},
   "outputs": [
    {
     "data": {
      "text/plain": [
       "str"
      ]
     },
     "execution_count": 5,
     "metadata": {},
     "output_type": "execute_result"
    }
   ],
   "source": [
    "type(karisikliste[3])"
   ]
  },
  {
   "cell_type": "code",
   "execution_count": 7,
   "id": "428a42c1",
   "metadata": {},
   "outputs": [],
   "source": [
    "nestedList=[1,2,3,\"ikbal\",[1,\"z\"]]"
   ]
  },
  {
   "cell_type": "code",
   "execution_count": 8,
   "id": "053d38d6",
   "metadata": {},
   "outputs": [
    {
     "data": {
      "text/plain": [
       "[1, 'z']"
      ]
     },
     "execution_count": 8,
     "metadata": {},
     "output_type": "execute_result"
    }
   ],
   "source": [
    "nestedList[4]"
   ]
  },
  {
   "cell_type": "code",
   "execution_count": 9,
   "id": "f4fd29f3",
   "metadata": {},
   "outputs": [
    {
     "data": {
      "text/plain": [
       "list"
      ]
     },
     "execution_count": 9,
     "metadata": {},
     "output_type": "execute_result"
    }
   ],
   "source": [
    "type(nestedList[4])"
   ]
  },
  {
   "cell_type": "code",
   "execution_count": 16,
   "id": "5f7369d4",
   "metadata": {},
   "outputs": [],
   "source": [
    "a=nestedList[4][1]"
   ]
  },
  {
   "cell_type": "code",
   "execution_count": 17,
   "id": "08d8d8da",
   "metadata": {},
   "outputs": [
    {
     "data": {
      "text/plain": [
       "'z'"
      ]
     },
     "execution_count": 17,
     "metadata": {},
     "output_type": "execute_result"
    }
   ],
   "source": [
    "a"
   ]
  },
  {
   "cell_type": "code",
   "execution_count": 18,
   "id": "413a371e",
   "metadata": {},
   "outputs": [
    {
     "data": {
      "text/plain": [
       "[3, 'ikbal', [1, 'z']]"
      ]
     },
     "execution_count": 18,
     "metadata": {},
     "output_type": "execute_result"
    }
   ],
   "source": [
    "nestedList[2:]"
   ]
  },
  {
   "cell_type": "code",
   "execution_count": 19,
   "id": "1e73a8d1",
   "metadata": {},
   "outputs": [
    {
     "data": {
      "text/plain": [
       "[1, 2]"
      ]
     },
     "execution_count": 19,
     "metadata": {},
     "output_type": "execute_result"
    }
   ],
   "source": [
    "nestedList[:2]"
   ]
  },
  {
   "cell_type": "code",
   "execution_count": null,
   "id": "9210f7f2",
   "metadata": {},
   "outputs": [],
   "source": []
  }
 ],
 "metadata": {
  "kernelspec": {
   "display_name": "Python 3 (ipykernel)",
   "language": "python",
   "name": "python3"
  },
  "language_info": {
   "codemirror_mode": {
    "name": "ipython",
    "version": 3
   },
   "file_extension": ".py",
   "mimetype": "text/x-python",
   "name": "python",
   "nbconvert_exporter": "python",
   "pygments_lexer": "ipython3",
   "version": "3.9.13"
  }
 },
 "nbformat": 4,
 "nbformat_minor": 5
}
